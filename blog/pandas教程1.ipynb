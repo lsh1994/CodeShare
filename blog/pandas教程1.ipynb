{
 "cells": [
  {
   "cell_type": "markdown",
   "metadata": {},
   "source": [
    "## 引入包"
   ]
  },
  {
   "cell_type": "code",
   "execution_count": 1,
   "metadata": {},
   "outputs": [],
   "source": [
    "import numpy as np\n",
    "import pandas as pd\n",
    "import matplotlib.pyplot as plt"
   ]
  },
  {
   "cell_type": "markdown",
   "metadata": {},
   "source": [
    "## 创建对象"
   ]
  },
  {
   "cell_type": "code",
   "execution_count": 2,
   "metadata": {},
   "outputs": [
    {
     "data": {
      "text/plain": [
       "0    1.0\n",
       "1    3.0\n",
       "2    5.0\n",
       "3    NaN\n",
       "4    6.0\n",
       "5    9.0\n",
       "dtype: float64"
      ]
     },
     "execution_count": 2,
     "metadata": {},
     "output_type": "execute_result"
    }
   ],
   "source": [
    "s=pd.Series([1,3,5,np.nan,6,9])\n",
    "s"
   ]
  },
  {
   "cell_type": "code",
   "execution_count": 3,
   "metadata": {},
   "outputs": [
    {
     "data": {
      "text/plain": [
       "DatetimeIndex(['2018-03-13', '2018-03-14', '2018-03-15', '2018-03-16',\n",
       "               '2018-03-17', '2018-03-18'],\n",
       "              dtype='datetime64[ns]', freq='D')"
      ]
     },
     "execution_count": 3,
     "metadata": {},
     "output_type": "execute_result"
    }
   ],
   "source": [
    "dates=pd.date_range('20180313',periods=6)\n",
    "dates"
   ]
  },
  {
   "cell_type": "code",
   "execution_count": 4,
   "metadata": {},
   "outputs": [
    {
     "data": {
      "text/html": [
       "<div>\n",
       "<style scoped>\n",
       "    .dataframe tbody tr th:only-of-type {\n",
       "        vertical-align: middle;\n",
       "    }\n",
       "\n",
       "    .dataframe tbody tr th {\n",
       "        vertical-align: top;\n",
       "    }\n",
       "\n",
       "    .dataframe thead th {\n",
       "        text-align: right;\n",
       "    }\n",
       "</style>\n",
       "<table border=\"1\" class=\"dataframe\">\n",
       "  <thead>\n",
       "    <tr style=\"text-align: right;\">\n",
       "      <th></th>\n",
       "      <th>A</th>\n",
       "      <th>B</th>\n",
       "      <th>C</th>\n",
       "      <th>D</th>\n",
       "    </tr>\n",
       "  </thead>\n",
       "  <tbody>\n",
       "    <tr>\n",
       "      <th>2018-03-13</th>\n",
       "      <td>0.049410</td>\n",
       "      <td>1.878310</td>\n",
       "      <td>-0.147890</td>\n",
       "      <td>-1.588265</td>\n",
       "    </tr>\n",
       "    <tr>\n",
       "      <th>2018-03-14</th>\n",
       "      <td>0.969644</td>\n",
       "      <td>0.951196</td>\n",
       "      <td>-0.394295</td>\n",
       "      <td>-0.012396</td>\n",
       "    </tr>\n",
       "    <tr>\n",
       "      <th>2018-03-15</th>\n",
       "      <td>-2.533224</td>\n",
       "      <td>0.268784</td>\n",
       "      <td>-0.418247</td>\n",
       "      <td>0.760050</td>\n",
       "    </tr>\n",
       "    <tr>\n",
       "      <th>2018-03-16</th>\n",
       "      <td>1.152236</td>\n",
       "      <td>-0.168060</td>\n",
       "      <td>0.655259</td>\n",
       "      <td>-0.416691</td>\n",
       "    </tr>\n",
       "    <tr>\n",
       "      <th>2018-03-17</th>\n",
       "      <td>0.584280</td>\n",
       "      <td>-0.349605</td>\n",
       "      <td>-0.124854</td>\n",
       "      <td>0.235189</td>\n",
       "    </tr>\n",
       "    <tr>\n",
       "      <th>2018-03-18</th>\n",
       "      <td>1.785686</td>\n",
       "      <td>0.309275</td>\n",
       "      <td>-1.001553</td>\n",
       "      <td>-1.055367</td>\n",
       "    </tr>\n",
       "  </tbody>\n",
       "</table>\n",
       "</div>"
      ],
      "text/plain": [
       "                   A         B         C         D\n",
       "2018-03-13  0.049410  1.878310 -0.147890 -1.588265\n",
       "2018-03-14  0.969644  0.951196 -0.394295 -0.012396\n",
       "2018-03-15 -2.533224  0.268784 -0.418247  0.760050\n",
       "2018-03-16  1.152236 -0.168060  0.655259 -0.416691\n",
       "2018-03-17  0.584280 -0.349605 -0.124854  0.235189\n",
       "2018-03-18  1.785686  0.309275 -1.001553 -1.055367"
      ]
     },
     "execution_count": 4,
     "metadata": {},
     "output_type": "execute_result"
    }
   ],
   "source": [
    "df=pd.DataFrame(np.random.randn(6,4),index=dates,columns=list('ABCD'))\n",
    "df"
   ]
  },
  {
   "cell_type": "code",
   "execution_count": 5,
   "metadata": {},
   "outputs": [
    {
     "data": {
      "text/html": [
       "<div>\n",
       "<style scoped>\n",
       "    .dataframe tbody tr th:only-of-type {\n",
       "        vertical-align: middle;\n",
       "    }\n",
       "\n",
       "    .dataframe tbody tr th {\n",
       "        vertical-align: top;\n",
       "    }\n",
       "\n",
       "    .dataframe thead th {\n",
       "        text-align: right;\n",
       "    }\n",
       "</style>\n",
       "<table border=\"1\" class=\"dataframe\">\n",
       "  <thead>\n",
       "    <tr style=\"text-align: right;\">\n",
       "      <th></th>\n",
       "      <th>A</th>\n",
       "      <th>B</th>\n",
       "      <th>C</th>\n",
       "      <th>D</th>\n",
       "      <th>E</th>\n",
       "      <th>F</th>\n",
       "    </tr>\n",
       "  </thead>\n",
       "  <tbody>\n",
       "    <tr>\n",
       "      <th>0</th>\n",
       "      <td>1</td>\n",
       "      <td>2018-03-13</td>\n",
       "      <td>1.0</td>\n",
       "      <td>3</td>\n",
       "      <td>test</td>\n",
       "      <td>fool</td>\n",
       "    </tr>\n",
       "    <tr>\n",
       "      <th>1</th>\n",
       "      <td>1</td>\n",
       "      <td>2018-03-13</td>\n",
       "      <td>1.0</td>\n",
       "      <td>3</td>\n",
       "      <td>test2</td>\n",
       "      <td>fool</td>\n",
       "    </tr>\n",
       "    <tr>\n",
       "      <th>2</th>\n",
       "      <td>1</td>\n",
       "      <td>2018-03-13</td>\n",
       "      <td>1.0</td>\n",
       "      <td>3</td>\n",
       "      <td>test3</td>\n",
       "      <td>fool</td>\n",
       "    </tr>\n",
       "    <tr>\n",
       "      <th>3</th>\n",
       "      <td>1</td>\n",
       "      <td>2018-03-13</td>\n",
       "      <td>1.0</td>\n",
       "      <td>3</td>\n",
       "      <td>test4</td>\n",
       "      <td>fool</td>\n",
       "    </tr>\n",
       "  </tbody>\n",
       "</table>\n",
       "</div>"
      ],
      "text/plain": [
       "   A          B    C  D      E     F\n",
       "0  1 2018-03-13  1.0  3   test  fool\n",
       "1  1 2018-03-13  1.0  3  test2  fool\n",
       "2  1 2018-03-13  1.0  3  test3  fool\n",
       "3  1 2018-03-13  1.0  3  test4  fool"
      ]
     },
     "execution_count": 5,
     "metadata": {},
     "output_type": "execute_result"
    }
   ],
   "source": [
    "df2=pd.DataFrame({'A':1,\n",
    "                 'B':pd.Timestamp('20180313'),\n",
    "                 'C':pd.Series(1,index=list(range(4)),dtype='float32'),\n",
    "                 'D':np.array([3]*4,dtype='int32'),\n",
    "                 'E':pd.Categorical(['test','test2','test3','test4']),\n",
    "                 'F':'fool'})\n",
    "df2"
   ]
  },
  {
   "cell_type": "code",
   "execution_count": 6,
   "metadata": {},
   "outputs": [
    {
     "data": {
      "text/plain": [
       "A             int64\n",
       "B    datetime64[ns]\n",
       "C           float32\n",
       "D             int32\n",
       "E          category\n",
       "F            object\n",
       "dtype: object"
      ]
     },
     "execution_count": 6,
     "metadata": {},
     "output_type": "execute_result"
    }
   ],
   "source": [
    "df2.dtypes"
   ]
  },
  {
   "cell_type": "markdown",
   "metadata": {},
   "source": [
    "## 查看数据"
   ]
  },
  {
   "cell_type": "code",
   "execution_count": 7,
   "metadata": {},
   "outputs": [
    {
     "data": {
      "text/html": [
       "<div>\n",
       "<style scoped>\n",
       "    .dataframe tbody tr th:only-of-type {\n",
       "        vertical-align: middle;\n",
       "    }\n",
       "\n",
       "    .dataframe tbody tr th {\n",
       "        vertical-align: top;\n",
       "    }\n",
       "\n",
       "    .dataframe thead th {\n",
       "        text-align: right;\n",
       "    }\n",
       "</style>\n",
       "<table border=\"1\" class=\"dataframe\">\n",
       "  <thead>\n",
       "    <tr style=\"text-align: right;\">\n",
       "      <th></th>\n",
       "      <th>A</th>\n",
       "      <th>B</th>\n",
       "      <th>C</th>\n",
       "      <th>D</th>\n",
       "    </tr>\n",
       "  </thead>\n",
       "  <tbody>\n",
       "    <tr>\n",
       "      <th>2018-03-13</th>\n",
       "      <td>0.049410</td>\n",
       "      <td>1.878310</td>\n",
       "      <td>-0.147890</td>\n",
       "      <td>-1.588265</td>\n",
       "    </tr>\n",
       "    <tr>\n",
       "      <th>2018-03-14</th>\n",
       "      <td>0.969644</td>\n",
       "      <td>0.951196</td>\n",
       "      <td>-0.394295</td>\n",
       "      <td>-0.012396</td>\n",
       "    </tr>\n",
       "    <tr>\n",
       "      <th>2018-03-15</th>\n",
       "      <td>-2.533224</td>\n",
       "      <td>0.268784</td>\n",
       "      <td>-0.418247</td>\n",
       "      <td>0.760050</td>\n",
       "    </tr>\n",
       "    <tr>\n",
       "      <th>2018-03-16</th>\n",
       "      <td>1.152236</td>\n",
       "      <td>-0.168060</td>\n",
       "      <td>0.655259</td>\n",
       "      <td>-0.416691</td>\n",
       "    </tr>\n",
       "    <tr>\n",
       "      <th>2018-03-17</th>\n",
       "      <td>0.584280</td>\n",
       "      <td>-0.349605</td>\n",
       "      <td>-0.124854</td>\n",
       "      <td>0.235189</td>\n",
       "    </tr>\n",
       "    <tr>\n",
       "      <th>2018-03-18</th>\n",
       "      <td>1.785686</td>\n",
       "      <td>0.309275</td>\n",
       "      <td>-1.001553</td>\n",
       "      <td>-1.055367</td>\n",
       "    </tr>\n",
       "  </tbody>\n",
       "</table>\n",
       "</div>"
      ],
      "text/plain": [
       "                   A         B         C         D\n",
       "2018-03-13  0.049410  1.878310 -0.147890 -1.588265\n",
       "2018-03-14  0.969644  0.951196 -0.394295 -0.012396\n",
       "2018-03-15 -2.533224  0.268784 -0.418247  0.760050\n",
       "2018-03-16  1.152236 -0.168060  0.655259 -0.416691\n",
       "2018-03-17  0.584280 -0.349605 -0.124854  0.235189\n",
       "2018-03-18  1.785686  0.309275 -1.001553 -1.055367"
      ]
     },
     "execution_count": 7,
     "metadata": {},
     "output_type": "execute_result"
    }
   ],
   "source": [
    "df"
   ]
  },
  {
   "cell_type": "code",
   "execution_count": 8,
   "metadata": {},
   "outputs": [
    {
     "data": {
      "text/html": [
       "<div>\n",
       "<style scoped>\n",
       "    .dataframe tbody tr th:only-of-type {\n",
       "        vertical-align: middle;\n",
       "    }\n",
       "\n",
       "    .dataframe tbody tr th {\n",
       "        vertical-align: top;\n",
       "    }\n",
       "\n",
       "    .dataframe thead th {\n",
       "        text-align: right;\n",
       "    }\n",
       "</style>\n",
       "<table border=\"1\" class=\"dataframe\">\n",
       "  <thead>\n",
       "    <tr style=\"text-align: right;\">\n",
       "      <th></th>\n",
       "      <th>A</th>\n",
       "      <th>B</th>\n",
       "      <th>C</th>\n",
       "      <th>D</th>\n",
       "    </tr>\n",
       "  </thead>\n",
       "  <tbody>\n",
       "    <tr>\n",
       "      <th>2018-03-13</th>\n",
       "      <td>0.049410</td>\n",
       "      <td>1.878310</td>\n",
       "      <td>-0.147890</td>\n",
       "      <td>-1.588265</td>\n",
       "    </tr>\n",
       "    <tr>\n",
       "      <th>2018-03-14</th>\n",
       "      <td>0.969644</td>\n",
       "      <td>0.951196</td>\n",
       "      <td>-0.394295</td>\n",
       "      <td>-0.012396</td>\n",
       "    </tr>\n",
       "    <tr>\n",
       "      <th>2018-03-15</th>\n",
       "      <td>-2.533224</td>\n",
       "      <td>0.268784</td>\n",
       "      <td>-0.418247</td>\n",
       "      <td>0.760050</td>\n",
       "    </tr>\n",
       "    <tr>\n",
       "      <th>2018-03-16</th>\n",
       "      <td>1.152236</td>\n",
       "      <td>-0.168060</td>\n",
       "      <td>0.655259</td>\n",
       "      <td>-0.416691</td>\n",
       "    </tr>\n",
       "    <tr>\n",
       "      <th>2018-03-17</th>\n",
       "      <td>0.584280</td>\n",
       "      <td>-0.349605</td>\n",
       "      <td>-0.124854</td>\n",
       "      <td>0.235189</td>\n",
       "    </tr>\n",
       "  </tbody>\n",
       "</table>\n",
       "</div>"
      ],
      "text/plain": [
       "                   A         B         C         D\n",
       "2018-03-13  0.049410  1.878310 -0.147890 -1.588265\n",
       "2018-03-14  0.969644  0.951196 -0.394295 -0.012396\n",
       "2018-03-15 -2.533224  0.268784 -0.418247  0.760050\n",
       "2018-03-16  1.152236 -0.168060  0.655259 -0.416691\n",
       "2018-03-17  0.584280 -0.349605 -0.124854  0.235189"
      ]
     },
     "execution_count": 8,
     "metadata": {},
     "output_type": "execute_result"
    }
   ],
   "source": [
    "df.head()"
   ]
  },
  {
   "cell_type": "code",
   "execution_count": 9,
   "metadata": {
    "scrolled": true
   },
   "outputs": [
    {
     "data": {
      "text/html": [
       "<div>\n",
       "<style scoped>\n",
       "    .dataframe tbody tr th:only-of-type {\n",
       "        vertical-align: middle;\n",
       "    }\n",
       "\n",
       "    .dataframe tbody tr th {\n",
       "        vertical-align: top;\n",
       "    }\n",
       "\n",
       "    .dataframe thead th {\n",
       "        text-align: right;\n",
       "    }\n",
       "</style>\n",
       "<table border=\"1\" class=\"dataframe\">\n",
       "  <thead>\n",
       "    <tr style=\"text-align: right;\">\n",
       "      <th></th>\n",
       "      <th>A</th>\n",
       "      <th>B</th>\n",
       "      <th>C</th>\n",
       "      <th>D</th>\n",
       "    </tr>\n",
       "  </thead>\n",
       "  <tbody>\n",
       "    <tr>\n",
       "      <th>2018-03-13</th>\n",
       "      <td>0.049410</td>\n",
       "      <td>1.878310</td>\n",
       "      <td>-0.147890</td>\n",
       "      <td>-1.588265</td>\n",
       "    </tr>\n",
       "    <tr>\n",
       "      <th>2018-03-14</th>\n",
       "      <td>0.969644</td>\n",
       "      <td>0.951196</td>\n",
       "      <td>-0.394295</td>\n",
       "      <td>-0.012396</td>\n",
       "    </tr>\n",
       "  </tbody>\n",
       "</table>\n",
       "</div>"
      ],
      "text/plain": [
       "                   A         B         C         D\n",
       "2018-03-13  0.049410  1.878310 -0.147890 -1.588265\n",
       "2018-03-14  0.969644  0.951196 -0.394295 -0.012396"
      ]
     },
     "execution_count": 9,
     "metadata": {},
     "output_type": "execute_result"
    }
   ],
   "source": [
    "df.head(2)"
   ]
  },
  {
   "cell_type": "code",
   "execution_count": 10,
   "metadata": {},
   "outputs": [
    {
     "data": {
      "text/html": [
       "<div>\n",
       "<style scoped>\n",
       "    .dataframe tbody tr th:only-of-type {\n",
       "        vertical-align: middle;\n",
       "    }\n",
       "\n",
       "    .dataframe tbody tr th {\n",
       "        vertical-align: top;\n",
       "    }\n",
       "\n",
       "    .dataframe thead th {\n",
       "        text-align: right;\n",
       "    }\n",
       "</style>\n",
       "<table border=\"1\" class=\"dataframe\">\n",
       "  <thead>\n",
       "    <tr style=\"text-align: right;\">\n",
       "      <th></th>\n",
       "      <th>A</th>\n",
       "      <th>B</th>\n",
       "      <th>C</th>\n",
       "      <th>D</th>\n",
       "    </tr>\n",
       "  </thead>\n",
       "  <tbody>\n",
       "    <tr>\n",
       "      <th>2018-03-16</th>\n",
       "      <td>1.152236</td>\n",
       "      <td>-0.168060</td>\n",
       "      <td>0.655259</td>\n",
       "      <td>-0.416691</td>\n",
       "    </tr>\n",
       "    <tr>\n",
       "      <th>2018-03-17</th>\n",
       "      <td>0.584280</td>\n",
       "      <td>-0.349605</td>\n",
       "      <td>-0.124854</td>\n",
       "      <td>0.235189</td>\n",
       "    </tr>\n",
       "    <tr>\n",
       "      <th>2018-03-18</th>\n",
       "      <td>1.785686</td>\n",
       "      <td>0.309275</td>\n",
       "      <td>-1.001553</td>\n",
       "      <td>-1.055367</td>\n",
       "    </tr>\n",
       "  </tbody>\n",
       "</table>\n",
       "</div>"
      ],
      "text/plain": [
       "                   A         B         C         D\n",
       "2018-03-16  1.152236 -0.168060  0.655259 -0.416691\n",
       "2018-03-17  0.584280 -0.349605 -0.124854  0.235189\n",
       "2018-03-18  1.785686  0.309275 -1.001553 -1.055367"
      ]
     },
     "execution_count": 10,
     "metadata": {},
     "output_type": "execute_result"
    }
   ],
   "source": [
    "df.tail(3)"
   ]
  },
  {
   "cell_type": "code",
   "execution_count": 11,
   "metadata": {},
   "outputs": [
    {
     "data": {
      "text/plain": [
       "DatetimeIndex(['2018-03-13', '2018-03-14', '2018-03-15', '2018-03-16',\n",
       "               '2018-03-17', '2018-03-18'],\n",
       "              dtype='datetime64[ns]', freq='D')"
      ]
     },
     "execution_count": 11,
     "metadata": {},
     "output_type": "execute_result"
    }
   ],
   "source": [
    "df.index"
   ]
  },
  {
   "cell_type": "code",
   "execution_count": 12,
   "metadata": {},
   "outputs": [
    {
     "data": {
      "text/plain": [
       "Int64Index([0, 1, 2, 3], dtype='int64')"
      ]
     },
     "execution_count": 12,
     "metadata": {},
     "output_type": "execute_result"
    }
   ],
   "source": [
    "df2.index"
   ]
  },
  {
   "cell_type": "code",
   "execution_count": 13,
   "metadata": {},
   "outputs": [
    {
     "data": {
      "text/plain": [
       "Index(['A', 'B', 'C', 'D'], dtype='object')"
      ]
     },
     "execution_count": 13,
     "metadata": {},
     "output_type": "execute_result"
    }
   ],
   "source": [
    "df.columns"
   ]
  },
  {
   "cell_type": "code",
   "execution_count": 14,
   "metadata": {},
   "outputs": [
    {
     "data": {
      "text/plain": [
       "array([[ 0.04941045,  1.87831022, -0.14789044, -1.58826543],\n",
       "       [ 0.96964361,  0.9511957 , -0.39429511, -0.01239569],\n",
       "       [-2.53322417,  0.2687836 , -0.41824712,  0.76004998],\n",
       "       [ 1.15223636, -0.16805985,  0.65525934, -0.41669137],\n",
       "       [ 0.58428023, -0.34960545, -0.1248537 ,  0.23518853],\n",
       "       [ 1.78568575,  0.30927525, -1.00155318, -1.05536747]])"
      ]
     },
     "execution_count": 14,
     "metadata": {},
     "output_type": "execute_result"
    }
   ],
   "source": [
    "df.values"
   ]
  },
  {
   "cell_type": "code",
   "execution_count": 15,
   "metadata": {},
   "outputs": [
    {
     "data": {
      "text/plain": [
       "array([[1, Timestamp('2018-03-13 00:00:00'), 1.0, 3, 'test', 'fool'],\n",
       "       [1, Timestamp('2018-03-13 00:00:00'), 1.0, 3, 'test2', 'fool'],\n",
       "       [1, Timestamp('2018-03-13 00:00:00'), 1.0, 3, 'test3', 'fool'],\n",
       "       [1, Timestamp('2018-03-13 00:00:00'), 1.0, 3, 'test4', 'fool']],\n",
       "      dtype=object)"
      ]
     },
     "execution_count": 15,
     "metadata": {},
     "output_type": "execute_result"
    }
   ],
   "source": [
    "df2.values"
   ]
  },
  {
   "cell_type": "markdown",
   "metadata": {},
   "source": [
    "## 数据统计和操作"
   ]
  },
  {
   "cell_type": "code",
   "execution_count": 16,
   "metadata": {},
   "outputs": [
    {
     "data": {
      "text/html": [
       "<div>\n",
       "<style scoped>\n",
       "    .dataframe tbody tr th:only-of-type {\n",
       "        vertical-align: middle;\n",
       "    }\n",
       "\n",
       "    .dataframe tbody tr th {\n",
       "        vertical-align: top;\n",
       "    }\n",
       "\n",
       "    .dataframe thead th {\n",
       "        text-align: right;\n",
       "    }\n",
       "</style>\n",
       "<table border=\"1\" class=\"dataframe\">\n",
       "  <thead>\n",
       "    <tr style=\"text-align: right;\">\n",
       "      <th></th>\n",
       "      <th>A</th>\n",
       "      <th>B</th>\n",
       "      <th>C</th>\n",
       "      <th>D</th>\n",
       "    </tr>\n",
       "  </thead>\n",
       "  <tbody>\n",
       "    <tr>\n",
       "      <th>count</th>\n",
       "      <td>6.000000</td>\n",
       "      <td>6.000000</td>\n",
       "      <td>6.000000</td>\n",
       "      <td>6.000000</td>\n",
       "    </tr>\n",
       "    <tr>\n",
       "      <th>mean</th>\n",
       "      <td>0.334672</td>\n",
       "      <td>0.481650</td>\n",
       "      <td>-0.238597</td>\n",
       "      <td>-0.346247</td>\n",
       "    </tr>\n",
       "    <tr>\n",
       "      <th>std</th>\n",
       "      <td>1.519575</td>\n",
       "      <td>0.819667</td>\n",
       "      <td>0.540141</td>\n",
       "      <td>0.863000</td>\n",
       "    </tr>\n",
       "    <tr>\n",
       "      <th>min</th>\n",
       "      <td>-2.533224</td>\n",
       "      <td>-0.349605</td>\n",
       "      <td>-1.001553</td>\n",
       "      <td>-1.588265</td>\n",
       "    </tr>\n",
       "    <tr>\n",
       "      <th>25%</th>\n",
       "      <td>0.183128</td>\n",
       "      <td>-0.058849</td>\n",
       "      <td>-0.412259</td>\n",
       "      <td>-0.895698</td>\n",
       "    </tr>\n",
       "    <tr>\n",
       "      <th>50%</th>\n",
       "      <td>0.776962</td>\n",
       "      <td>0.289029</td>\n",
       "      <td>-0.271093</td>\n",
       "      <td>-0.214544</td>\n",
       "    </tr>\n",
       "    <tr>\n",
       "      <th>75%</th>\n",
       "      <td>1.106588</td>\n",
       "      <td>0.790716</td>\n",
       "      <td>-0.130613</td>\n",
       "      <td>0.173292</td>\n",
       "    </tr>\n",
       "    <tr>\n",
       "      <th>max</th>\n",
       "      <td>1.785686</td>\n",
       "      <td>1.878310</td>\n",
       "      <td>0.655259</td>\n",
       "      <td>0.760050</td>\n",
       "    </tr>\n",
       "  </tbody>\n",
       "</table>\n",
       "</div>"
      ],
      "text/plain": [
       "              A         B         C         D\n",
       "count  6.000000  6.000000  6.000000  6.000000\n",
       "mean   0.334672  0.481650 -0.238597 -0.346247\n",
       "std    1.519575  0.819667  0.540141  0.863000\n",
       "min   -2.533224 -0.349605 -1.001553 -1.588265\n",
       "25%    0.183128 -0.058849 -0.412259 -0.895698\n",
       "50%    0.776962  0.289029 -0.271093 -0.214544\n",
       "75%    1.106588  0.790716 -0.130613  0.173292\n",
       "max    1.785686  1.878310  0.655259  0.760050"
      ]
     },
     "execution_count": 16,
     "metadata": {},
     "output_type": "execute_result"
    }
   ],
   "source": [
    "df.describe()"
   ]
  },
  {
   "cell_type": "code",
   "execution_count": 17,
   "metadata": {},
   "outputs": [
    {
     "data": {
      "text/plain": [
       "pandas.core.frame.DataFrame"
      ]
     },
     "execution_count": 17,
     "metadata": {},
     "output_type": "execute_result"
    }
   ],
   "source": [
    "type(df.describe())"
   ]
  },
  {
   "cell_type": "code",
   "execution_count": 18,
   "metadata": {},
   "outputs": [
    {
     "data": {
      "text/html": [
       "<div>\n",
       "<style scoped>\n",
       "    .dataframe tbody tr th:only-of-type {\n",
       "        vertical-align: middle;\n",
       "    }\n",
       "\n",
       "    .dataframe tbody tr th {\n",
       "        vertical-align: top;\n",
       "    }\n",
       "\n",
       "    .dataframe thead th {\n",
       "        text-align: right;\n",
       "    }\n",
       "</style>\n",
       "<table border=\"1\" class=\"dataframe\">\n",
       "  <thead>\n",
       "    <tr style=\"text-align: right;\">\n",
       "      <th></th>\n",
       "      <th>A</th>\n",
       "      <th>B</th>\n",
       "      <th>C</th>\n",
       "      <th>D</th>\n",
       "    </tr>\n",
       "  </thead>\n",
       "  <tbody>\n",
       "    <tr>\n",
       "      <th>2018-03-13</th>\n",
       "      <td>0.049410</td>\n",
       "      <td>1.878310</td>\n",
       "      <td>-0.147890</td>\n",
       "      <td>-1.588265</td>\n",
       "    </tr>\n",
       "    <tr>\n",
       "      <th>2018-03-14</th>\n",
       "      <td>0.969644</td>\n",
       "      <td>0.951196</td>\n",
       "      <td>-0.394295</td>\n",
       "      <td>-0.012396</td>\n",
       "    </tr>\n",
       "    <tr>\n",
       "      <th>2018-03-15</th>\n",
       "      <td>-2.533224</td>\n",
       "      <td>0.268784</td>\n",
       "      <td>-0.418247</td>\n",
       "      <td>0.760050</td>\n",
       "    </tr>\n",
       "    <tr>\n",
       "      <th>2018-03-16</th>\n",
       "      <td>1.152236</td>\n",
       "      <td>-0.168060</td>\n",
       "      <td>0.655259</td>\n",
       "      <td>-0.416691</td>\n",
       "    </tr>\n",
       "    <tr>\n",
       "      <th>2018-03-17</th>\n",
       "      <td>0.584280</td>\n",
       "      <td>-0.349605</td>\n",
       "      <td>-0.124854</td>\n",
       "      <td>0.235189</td>\n",
       "    </tr>\n",
       "    <tr>\n",
       "      <th>2018-03-18</th>\n",
       "      <td>1.785686</td>\n",
       "      <td>0.309275</td>\n",
       "      <td>-1.001553</td>\n",
       "      <td>-1.055367</td>\n",
       "    </tr>\n",
       "  </tbody>\n",
       "</table>\n",
       "</div>"
      ],
      "text/plain": [
       "                   A         B         C         D\n",
       "2018-03-13  0.049410  1.878310 -0.147890 -1.588265\n",
       "2018-03-14  0.969644  0.951196 -0.394295 -0.012396\n",
       "2018-03-15 -2.533224  0.268784 -0.418247  0.760050\n",
       "2018-03-16  1.152236 -0.168060  0.655259 -0.416691\n",
       "2018-03-17  0.584280 -0.349605 -0.124854  0.235189\n",
       "2018-03-18  1.785686  0.309275 -1.001553 -1.055367"
      ]
     },
     "execution_count": 18,
     "metadata": {},
     "output_type": "execute_result"
    }
   ],
   "source": [
    "df"
   ]
  },
  {
   "cell_type": "code",
   "execution_count": 19,
   "metadata": {
    "scrolled": true
   },
   "outputs": [
    {
     "data": {
      "text/html": [
       "<div>\n",
       "<style scoped>\n",
       "    .dataframe tbody tr th:only-of-type {\n",
       "        vertical-align: middle;\n",
       "    }\n",
       "\n",
       "    .dataframe tbody tr th {\n",
       "        vertical-align: top;\n",
       "    }\n",
       "\n",
       "    .dataframe thead th {\n",
       "        text-align: right;\n",
       "    }\n",
       "</style>\n",
       "<table border=\"1\" class=\"dataframe\">\n",
       "  <thead>\n",
       "    <tr style=\"text-align: right;\">\n",
       "      <th></th>\n",
       "      <th>2018-03-13 00:00:00</th>\n",
       "      <th>2018-03-14 00:00:00</th>\n",
       "      <th>2018-03-15 00:00:00</th>\n",
       "      <th>2018-03-16 00:00:00</th>\n",
       "      <th>2018-03-17 00:00:00</th>\n",
       "      <th>2018-03-18 00:00:00</th>\n",
       "    </tr>\n",
       "  </thead>\n",
       "  <tbody>\n",
       "    <tr>\n",
       "      <th>A</th>\n",
       "      <td>0.049410</td>\n",
       "      <td>0.969644</td>\n",
       "      <td>-2.533224</td>\n",
       "      <td>1.152236</td>\n",
       "      <td>0.584280</td>\n",
       "      <td>1.785686</td>\n",
       "    </tr>\n",
       "    <tr>\n",
       "      <th>B</th>\n",
       "      <td>1.878310</td>\n",
       "      <td>0.951196</td>\n",
       "      <td>0.268784</td>\n",
       "      <td>-0.168060</td>\n",
       "      <td>-0.349605</td>\n",
       "      <td>0.309275</td>\n",
       "    </tr>\n",
       "    <tr>\n",
       "      <th>C</th>\n",
       "      <td>-0.147890</td>\n",
       "      <td>-0.394295</td>\n",
       "      <td>-0.418247</td>\n",
       "      <td>0.655259</td>\n",
       "      <td>-0.124854</td>\n",
       "      <td>-1.001553</td>\n",
       "    </tr>\n",
       "    <tr>\n",
       "      <th>D</th>\n",
       "      <td>-1.588265</td>\n",
       "      <td>-0.012396</td>\n",
       "      <td>0.760050</td>\n",
       "      <td>-0.416691</td>\n",
       "      <td>0.235189</td>\n",
       "      <td>-1.055367</td>\n",
       "    </tr>\n",
       "  </tbody>\n",
       "</table>\n",
       "</div>"
      ],
      "text/plain": [
       "   2018-03-13  2018-03-14  2018-03-15  2018-03-16  2018-03-17  2018-03-18\n",
       "A    0.049410    0.969644   -2.533224    1.152236    0.584280    1.785686\n",
       "B    1.878310    0.951196    0.268784   -0.168060   -0.349605    0.309275\n",
       "C   -0.147890   -0.394295   -0.418247    0.655259   -0.124854   -1.001553\n",
       "D   -1.588265   -0.012396    0.760050   -0.416691    0.235189   -1.055367"
      ]
     },
     "execution_count": 19,
     "metadata": {},
     "output_type": "execute_result"
    }
   ],
   "source": [
    "df.T #转置"
   ]
  },
  {
   "cell_type": "code",
   "execution_count": 20,
   "metadata": {},
   "outputs": [
    {
     "data": {
      "text/html": [
       "<div>\n",
       "<style scoped>\n",
       "    .dataframe tbody tr th:only-of-type {\n",
       "        vertical-align: middle;\n",
       "    }\n",
       "\n",
       "    .dataframe tbody tr th {\n",
       "        vertical-align: top;\n",
       "    }\n",
       "\n",
       "    .dataframe thead th {\n",
       "        text-align: right;\n",
       "    }\n",
       "</style>\n",
       "<table border=\"1\" class=\"dataframe\">\n",
       "  <thead>\n",
       "    <tr style=\"text-align: right;\">\n",
       "      <th></th>\n",
       "      <th>D</th>\n",
       "      <th>C</th>\n",
       "      <th>B</th>\n",
       "      <th>A</th>\n",
       "    </tr>\n",
       "  </thead>\n",
       "  <tbody>\n",
       "    <tr>\n",
       "      <th>2018-03-13</th>\n",
       "      <td>-1.588265</td>\n",
       "      <td>-0.147890</td>\n",
       "      <td>1.878310</td>\n",
       "      <td>0.049410</td>\n",
       "    </tr>\n",
       "    <tr>\n",
       "      <th>2018-03-14</th>\n",
       "      <td>-0.012396</td>\n",
       "      <td>-0.394295</td>\n",
       "      <td>0.951196</td>\n",
       "      <td>0.969644</td>\n",
       "    </tr>\n",
       "    <tr>\n",
       "      <th>2018-03-15</th>\n",
       "      <td>0.760050</td>\n",
       "      <td>-0.418247</td>\n",
       "      <td>0.268784</td>\n",
       "      <td>-2.533224</td>\n",
       "    </tr>\n",
       "    <tr>\n",
       "      <th>2018-03-16</th>\n",
       "      <td>-0.416691</td>\n",
       "      <td>0.655259</td>\n",
       "      <td>-0.168060</td>\n",
       "      <td>1.152236</td>\n",
       "    </tr>\n",
       "    <tr>\n",
       "      <th>2018-03-17</th>\n",
       "      <td>0.235189</td>\n",
       "      <td>-0.124854</td>\n",
       "      <td>-0.349605</td>\n",
       "      <td>0.584280</td>\n",
       "    </tr>\n",
       "    <tr>\n",
       "      <th>2018-03-18</th>\n",
       "      <td>-1.055367</td>\n",
       "      <td>-1.001553</td>\n",
       "      <td>0.309275</td>\n",
       "      <td>1.785686</td>\n",
       "    </tr>\n",
       "  </tbody>\n",
       "</table>\n",
       "</div>"
      ],
      "text/plain": [
       "                   D         C         B         A\n",
       "2018-03-13 -1.588265 -0.147890  1.878310  0.049410\n",
       "2018-03-14 -0.012396 -0.394295  0.951196  0.969644\n",
       "2018-03-15  0.760050 -0.418247  0.268784 -2.533224\n",
       "2018-03-16 -0.416691  0.655259 -0.168060  1.152236\n",
       "2018-03-17  0.235189 -0.124854 -0.349605  0.584280\n",
       "2018-03-18 -1.055367 -1.001553  0.309275  1.785686"
      ]
     },
     "execution_count": 20,
     "metadata": {},
     "output_type": "execute_result"
    }
   ],
   "source": [
    "df.sort_index(axis=1,ascending=False) #按轴排序，按列降序"
   ]
  },
  {
   "cell_type": "code",
   "execution_count": 21,
   "metadata": {},
   "outputs": [
    {
     "data": {
      "text/html": [
       "<div>\n",
       "<style scoped>\n",
       "    .dataframe tbody tr th:only-of-type {\n",
       "        vertical-align: middle;\n",
       "    }\n",
       "\n",
       "    .dataframe tbody tr th {\n",
       "        vertical-align: top;\n",
       "    }\n",
       "\n",
       "    .dataframe thead th {\n",
       "        text-align: right;\n",
       "    }\n",
       "</style>\n",
       "<table border=\"1\" class=\"dataframe\">\n",
       "  <thead>\n",
       "    <tr style=\"text-align: right;\">\n",
       "      <th></th>\n",
       "      <th>A</th>\n",
       "      <th>B</th>\n",
       "      <th>C</th>\n",
       "      <th>D</th>\n",
       "    </tr>\n",
       "  </thead>\n",
       "  <tbody>\n",
       "    <tr>\n",
       "      <th>2018-03-17</th>\n",
       "      <td>0.584280</td>\n",
       "      <td>-0.349605</td>\n",
       "      <td>-0.124854</td>\n",
       "      <td>0.235189</td>\n",
       "    </tr>\n",
       "    <tr>\n",
       "      <th>2018-03-16</th>\n",
       "      <td>1.152236</td>\n",
       "      <td>-0.168060</td>\n",
       "      <td>0.655259</td>\n",
       "      <td>-0.416691</td>\n",
       "    </tr>\n",
       "    <tr>\n",
       "      <th>2018-03-15</th>\n",
       "      <td>-2.533224</td>\n",
       "      <td>0.268784</td>\n",
       "      <td>-0.418247</td>\n",
       "      <td>0.760050</td>\n",
       "    </tr>\n",
       "    <tr>\n",
       "      <th>2018-03-18</th>\n",
       "      <td>1.785686</td>\n",
       "      <td>0.309275</td>\n",
       "      <td>-1.001553</td>\n",
       "      <td>-1.055367</td>\n",
       "    </tr>\n",
       "    <tr>\n",
       "      <th>2018-03-14</th>\n",
       "      <td>0.969644</td>\n",
       "      <td>0.951196</td>\n",
       "      <td>-0.394295</td>\n",
       "      <td>-0.012396</td>\n",
       "    </tr>\n",
       "    <tr>\n",
       "      <th>2018-03-13</th>\n",
       "      <td>0.049410</td>\n",
       "      <td>1.878310</td>\n",
       "      <td>-0.147890</td>\n",
       "      <td>-1.588265</td>\n",
       "    </tr>\n",
       "  </tbody>\n",
       "</table>\n",
       "</div>"
      ],
      "text/plain": [
       "                   A         B         C         D\n",
       "2018-03-17  0.584280 -0.349605 -0.124854  0.235189\n",
       "2018-03-16  1.152236 -0.168060  0.655259 -0.416691\n",
       "2018-03-15 -2.533224  0.268784 -0.418247  0.760050\n",
       "2018-03-18  1.785686  0.309275 -1.001553 -1.055367\n",
       "2018-03-14  0.969644  0.951196 -0.394295 -0.012396\n",
       "2018-03-13  0.049410  1.878310 -0.147890 -1.588265"
      ]
     },
     "execution_count": 21,
     "metadata": {},
     "output_type": "execute_result"
    }
   ],
   "source": [
    "df.sort_values(by='B')"
   ]
  }
 ],
 "metadata": {
  "kernelspec": {
   "display_name": "Python 3",
   "language": "python",
   "name": "python3"
  },
  "language_info": {
   "codemirror_mode": {
    "name": "ipython",
    "version": 3
   },
   "file_extension": ".py",
   "mimetype": "text/x-python",
   "name": "python",
   "nbconvert_exporter": "python",
   "pygments_lexer": "ipython3",
   "version": "3.6.4"
  }
 },
 "nbformat": 4,
 "nbformat_minor": 2
}

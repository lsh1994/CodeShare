{
 "cells": [
  {
   "cell_type": "code",
   "execution_count": 1,
   "metadata": {},
   "outputs": [],
   "source": [
    "import pandas as pd"
   ]
  },
  {
   "cell_type": "code",
   "execution_count": 3,
   "metadata": {},
   "outputs": [
    {
     "data": {
      "text/html": [
       "<div>\n",
       "<style scoped>\n",
       "    .dataframe tbody tr th:only-of-type {\n",
       "        vertical-align: middle;\n",
       "    }\n",
       "\n",
       "    .dataframe tbody tr th {\n",
       "        vertical-align: top;\n",
       "    }\n",
       "\n",
       "    .dataframe thead th {\n",
       "        text-align: right;\n",
       "    }\n",
       "</style>\n",
       "<table border=\"1\" class=\"dataframe\">\n",
       "  <thead>\n",
       "    <tr style=\"text-align: right;\">\n",
       "      <th></th>\n",
       "      <th>访问者IP</th>\n",
       "      <th>入口页面URL</th>\n",
       "      <th>访问者IP地理位置</th>\n",
       "      <th>访问时间</th>\n",
       "      <th>省份区号</th>\n",
       "    </tr>\n",
       "  </thead>\n",
       "  <tbody>\n",
       "    <tr>\n",
       "      <th>0</th>\n",
       "      <td>60.191.38.*</td>\n",
       "      <td>/</td>\n",
       "      <td>中国 浙江 杭州</td>\n",
       "      <td>2018/4/2 0:00</td>\n",
       "      <td>NaN</td>\n",
       "    </tr>\n",
       "    <tr>\n",
       "      <th>1</th>\n",
       "      <td>60.191.38.*</td>\n",
       "      <td>/Default.aspx</td>\n",
       "      <td>中国 浙江 杭州</td>\n",
       "      <td>2018/4/2 0:00</td>\n",
       "      <td>NaN</td>\n",
       "    </tr>\n",
       "    <tr>\n",
       "      <th>2</th>\n",
       "      <td>60.191.38.*</td>\n",
       "      <td>/</td>\n",
       "      <td>中国 浙江 杭州</td>\n",
       "      <td>2018/4/2 0:00</td>\n",
       "      <td>NaN</td>\n",
       "    </tr>\n",
       "    <tr>\n",
       "      <th>3</th>\n",
       "      <td>60.191.38.*</td>\n",
       "      <td>/Default.aspx</td>\n",
       "      <td>中国 浙江 杭州</td>\n",
       "      <td>2018/4/2 0:00</td>\n",
       "      <td>NaN</td>\n",
       "    </tr>\n",
       "    <tr>\n",
       "      <th>4</th>\n",
       "      <td>60.191.38.*</td>\n",
       "      <td>/</td>\n",
       "      <td>中国 浙江 杭州</td>\n",
       "      <td>2018/4/2 0:00</td>\n",
       "      <td>NaN</td>\n",
       "    </tr>\n",
       "  </tbody>\n",
       "</table>\n",
       "</div>"
      ],
      "text/plain": [
       "         访问者IP        入口页面URL 访问者IP地理位置           访问时间  省份区号\n",
       "0  60.191.38.*              /  中国 浙江 杭州  2018/4/2 0:00   NaN\n",
       "1  60.191.38.*  /Default.aspx  中国 浙江 杭州  2018/4/2 0:00   NaN\n",
       "2  60.191.38.*              /  中国 浙江 杭州  2018/4/2 0:00   NaN\n",
       "3  60.191.38.*  /Default.aspx  中国 浙江 杭州  2018/4/2 0:00   NaN\n",
       "4  60.191.38.*              /  中国 浙江 杭州  2018/4/2 0:00   NaN"
      ]
     },
     "execution_count": 3,
     "metadata": {},
     "output_type": "execute_result"
    }
   ],
   "source": [
    "df=pd.read_csv(\"d:/fangwen_yangli_log.csv\")\n",
    "df.head()"
   ]
  },
  {
   "cell_type": "code",
   "execution_count": 7,
   "metadata": {},
   "outputs": [
    {
     "data": {
      "text/plain": [
       "['/',\n",
       " '/Default.aspx',\n",
       " '/',\n",
       " '/Default.aspx',\n",
       " '/',\n",
       " '/Default.aspx',\n",
       " '/Data/FileList.aspx?MetaId=F5F68B35D6121B60E0430100007F0760',\n",
       " '/Data/FileList.aspx?Mdidnt=x00142224&MetaId=5FCE936597257199E05341015A0A18FE&type=qt',\n",
       " '/',\n",
       " '/Default.aspx']"
      ]
     },
     "execution_count": 7,
     "metadata": {},
     "output_type": "execute_result"
    }
   ],
   "source": [
    "page=list(df.iloc[:,1].values)\n",
    "page[:10]"
   ]
  },
  {
   "cell_type": "code",
   "execution_count": 8,
   "metadata": {},
   "outputs": [
    {
     "data": {
      "text/plain": [
       "64050"
      ]
     },
     "execution_count": 8,
     "metadata": {},
     "output_type": "execute_result"
    }
   ],
   "source": [
    "len(page)"
   ]
  },
  {
   "cell_type": "code",
   "execution_count": 10,
   "metadata": {},
   "outputs": [
    {
     "data": {
      "text/plain": [
       "14081"
      ]
     },
     "execution_count": 10,
     "metadata": {},
     "output_type": "execute_result"
    }
   ],
   "source": [
    "pageset=set(page)\n",
    "len(pageset)"
   ]
  },
  {
   "cell_type": "code",
   "execution_count": 11,
   "metadata": {},
   "outputs": [],
   "source": [
    "def wordcount(ary):\n",
    "    count_dict = {}\n",
    "    # 如果字典里有该单词则加1，否则添加入字典\n",
    "    for str in ary:\n",
    "        if str in count_dict.keys():\n",
    "            count_dict[str]+= 1\n",
    "        else:\n",
    "            count_dict[str] = 1\n",
    "    return count_dict"
   ]
  },
  {
   "cell_type": "code",
   "execution_count": 12,
   "metadata": {},
   "outputs": [
    {
     "data": {
      "text/plain": [
       "[('/', 8901),\n",
       " ('/Default.aspx', 8867),\n",
       " ('/Document/Map.aspx?MapId=EC7E1A7A78251954E0430100007F182E', 2603),\n",
       " ('/Map/list.aspx', 1395),\n",
       " ('/iframe/picScroll.aspx?&top&true&1&3', 993),\n",
       " ('/Distribute/DistributeList.aspx', 826),\n",
       " ('/Special/List.aspx', 617),\n",
       " ('/Data/list.aspx', 555),\n",
       " ('/UserCenter/Register.aspx', 342),\n",
       " ('/BigData/', 296),\n",
       " ('/Tools/List.aspx', 293),\n",
       " ('/Data/NewPublist.aspx', 232),\n",
       " ('/jsapi/arcgis/3.5/', 223),\n",
       " ('/UserCenter/VerifyCode.aspx', 220),\n",
       " ('/UserCenter/SsoCallback.aspx', 203),\n",
       " ('/Document/Map.aspx?MapId=EC7E1A7A75231954E0430100007F182E', 187),\n",
       " ('/Map/Detail.aspx?MapId=EC7E1A7A78241954E0430100007F182E', 168),\n",
       " ('/Distribute/Getgeo.ashx', 139),\n",
       " ('/Map/list.aspx?q=1%3A20%E4%B8%87%E5%9C%B0%E8%B4%A8%E5%9B%BE', 115),\n",
       " ('/Document/Map.aspx?MapId=EC7E1A7A78241954E0430100007F182E', 108),\n",
       " ('/Document/Map.aspx?MapId=EC7E1A7A7B541954E0430100007F182E', 99),\n",
       " ('/UserCenter/SsoActivation.aspx', 93),\n",
       " ('/Data/NewPub.aspx?dataType=0&year=2018&month=4&quarter=4', 90),\n",
       " ('/Document/', 87),\n",
       " ('/mytheme/hp.aspx?guid=57CB880F3E6C74B9E05341015A0A845C', 81),\n",
       " ('/Map/list.aspx?q=1%3A20%E4%B8%87%E6%B0%B4%E6%96%87%E5%9C%B0%E8%B4%A8%E5%9B%BE',\n",
       "  80),\n",
       " ('/Map/Detail.aspx?MapId=242792D71B083041E05341015A0A7C47', 79),\n",
       " ('/News/NewsList.aspx?type=1', 72),\n",
       " ('/dizhen/dizhenSearch.ashx', 67),\n",
       " ('/Map/list.aspx?q=1%3A25%E4%B8%87%E5%9C%B0%E8%B4%A8%E5%9B%BE', 65)]"
      ]
     },
     "execution_count": 12,
     "metadata": {},
     "output_type": "execute_result"
    }
   ],
   "source": [
    "wc=wordcount(page)#关键词，数量\n",
    "count_list=sorted(wc.items(),key=lambda x:x[1],reverse=True)# 降序排列\n",
    "count_list[:30]"
   ]
  },
  {
   "cell_type": "code",
   "execution_count": null,
   "metadata": {},
   "outputs": [],
   "source": []
  }
 ],
 "metadata": {
  "kernelspec": {
   "display_name": "Python 3",
   "language": "python",
   "name": "python3"
  },
  "language_info": {
   "codemirror_mode": {
    "name": "ipython",
    "version": 3
   },
   "file_extension": ".py",
   "mimetype": "text/x-python",
   "name": "python",
   "nbconvert_exporter": "python",
   "pygments_lexer": "ipython3",
   "version": "3.6.5"
  }
 },
 "nbformat": 4,
 "nbformat_minor": 2
}
